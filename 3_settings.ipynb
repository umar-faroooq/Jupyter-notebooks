{
  "nbformat": 4,
  "nbformat_minor": 0,
  "metadata": {
    "colab": {
      "name": "3-settings.ipynb",
      "provenance": [],
      "toc_visible": true,
      "authorship_tag": "ABX9TyNQypQ1WYuwI0l7N50Pe67O",
      "include_colab_link": true
    },
    "kernelspec": {
      "name": "python3",
      "display_name": "Python 3"
    },
    "language_info": {
      "name": "python"
    }
  },
  "cells": [
    {
      "cell_type": "markdown",
      "metadata": {
        "id": "view-in-github",
        "colab_type": "text"
      },
      "source": [
        "<a href=\"https://colab.research.google.com/github/umar-faroooq/Jupyter-notebooks/blob/main/3_settings.ipynb\" target=\"_parent\"><img src=\"https://colab.research.google.com/assets/colab-badge.svg\" alt=\"Open In Colab\"/></a>"
      ]
    },
    {
      "cell_type": "code",
      "metadata": {
        "colab": {
          "base_uri": "https://localhost:8080/"
        },
        "id": "1xHqeeUz0gg9",
        "outputId": "b3517dea-95fd-4250-fe64-3561d9854406"
      },
      "source": [
        "from google.colab import drive\n",
        "drive.mount('/content/drive')"
      ],
      "execution_count": null,
      "outputs": [
        {
          "output_type": "stream",
          "name": "stdout",
          "text": [
            "Mounted at /content/drive\n"
          ]
        }
      ]
    },
    {
      "cell_type": "code",
      "metadata": {
        "id": "yNkN62KQ0iPG"
      },
      "source": [
        "import os\n",
        "import datetime\n",
        "\n",
        "import IPython\n",
        "import IPython.display\n",
        "import matplotlib as mpl\n",
        "import matplotlib.pyplot as plt\n",
        "import numpy as np\n",
        "import pandas as pd\n",
        "import seaborn as sns\n",
        "import tensorflow as tf\n",
        "\n",
        "mpl.rcParams['figure.figsize'] = (8, 6)\n",
        "mpl.rcParams['axes.grid'] = False\n"
      ],
      "execution_count": null,
      "outputs": []
    },
    {
      "cell_type": "code",
      "metadata": {
        "id": "ZydTo0_50t2a"
      },
      "source": [
        "csv_path = '/content/drive/MyDrive/LSTM Implementation/AHUF5/preprocessed_AHUF5.csv'\n",
        "df = pd.read_csv(csv_path)\n",
        "# Slice [start:stop:step], starting from index 5 take every 6th record.\n",
        "# df = df[5::6]\n",
        "\n",
        "date_time = pd.to_datetime(df.pop('Timestamp'))\n"
      ],
      "execution_count": null,
      "outputs": []
    },
    {
      "cell_type": "code",
      "metadata": {
        "colab": {
          "base_uri": "https://localhost:8080/",
          "height": 301
        },
        "id": "Np_gmSg41D6N",
        "outputId": "d041b101-f510-4a37-862e-b5d597d3dce3"
      },
      "source": [
        "df.describe().transpose()\n"
      ],
      "execution_count": null,
      "outputs": [
        {
          "output_type": "execute_result",
          "data": {
            "text/html": [
              "<div>\n",
              "<style scoped>\n",
              "    .dataframe tbody tr th:only-of-type {\n",
              "        vertical-align: middle;\n",
              "    }\n",
              "\n",
              "    .dataframe tbody tr th {\n",
              "        vertical-align: top;\n",
              "    }\n",
              "\n",
              "    .dataframe thead th {\n",
              "        text-align: right;\n",
              "    }\n",
              "</style>\n",
              "<table border=\"1\" class=\"dataframe\">\n",
              "  <thead>\n",
              "    <tr style=\"text-align: right;\">\n",
              "      <th></th>\n",
              "      <th>count</th>\n",
              "      <th>mean</th>\n",
              "      <th>std</th>\n",
              "      <th>min</th>\n",
              "      <th>25%</th>\n",
              "      <th>50%</th>\n",
              "      <th>75%</th>\n",
              "      <th>max</th>\n",
              "    </tr>\n",
              "  </thead>\n",
              "  <tbody>\n",
              "    <tr>\n",
              "      <th>hour</th>\n",
              "      <td>184556.0</td>\n",
              "      <td>11.481442</td>\n",
              "      <td>6.996583</td>\n",
              "      <td>0.00</td>\n",
              "      <td>5.000000</td>\n",
              "      <td>11.000000</td>\n",
              "      <td>18.000000</td>\n",
              "      <td>23.00</td>\n",
              "    </tr>\n",
              "    <tr>\n",
              "      <th>day</th>\n",
              "      <td>184556.0</td>\n",
              "      <td>2.983674</td>\n",
              "      <td>2.049272</td>\n",
              "      <td>0.00</td>\n",
              "      <td>1.000000</td>\n",
              "      <td>3.000000</td>\n",
              "      <td>5.000000</td>\n",
              "      <td>6.00</td>\n",
              "    </tr>\n",
              "    <tr>\n",
              "      <th>OAT</th>\n",
              "      <td>184556.0</td>\n",
              "      <td>29.578779</td>\n",
              "      <td>4.235406</td>\n",
              "      <td>19.97</td>\n",
              "      <td>26.432292</td>\n",
              "      <td>29.019776</td>\n",
              "      <td>32.603375</td>\n",
              "      <td>43.57</td>\n",
              "    </tr>\n",
              "    <tr>\n",
              "      <th>SAT</th>\n",
              "      <td>184556.0</td>\n",
              "      <td>21.532370</td>\n",
              "      <td>6.854144</td>\n",
              "      <td>0.00</td>\n",
              "      <td>18.100000</td>\n",
              "      <td>21.300000</td>\n",
              "      <td>27.100000</td>\n",
              "      <td>34.30</td>\n",
              "    </tr>\n",
              "    <tr>\n",
              "      <th>RH</th>\n",
              "      <td>184556.0</td>\n",
              "      <td>56.528214</td>\n",
              "      <td>18.727590</td>\n",
              "      <td>0.00</td>\n",
              "      <td>49.000000</td>\n",
              "      <td>59.000000</td>\n",
              "      <td>70.000000</td>\n",
              "      <td>91.00</td>\n",
              "    </tr>\n",
              "    <tr>\n",
              "      <th>CHW_Temp</th>\n",
              "      <td>184556.0</td>\n",
              "      <td>19.317503</td>\n",
              "      <td>7.275348</td>\n",
              "      <td>0.00</td>\n",
              "      <td>15.700000</td>\n",
              "      <td>18.800000</td>\n",
              "      <td>23.600000</td>\n",
              "      <td>34.00</td>\n",
              "    </tr>\n",
              "    <tr>\n",
              "      <th>Valve</th>\n",
              "      <td>184556.0</td>\n",
              "      <td>38.702481</td>\n",
              "      <td>48.552425</td>\n",
              "      <td>0.00</td>\n",
              "      <td>0.000000</td>\n",
              "      <td>0.000000</td>\n",
              "      <td>100.000000</td>\n",
              "      <td>100.00</td>\n",
              "    </tr>\n",
              "    <tr>\n",
              "      <th>RAT</th>\n",
              "      <td>184556.0</td>\n",
              "      <td>27.146891</td>\n",
              "      <td>6.456997</td>\n",
              "      <td>0.00</td>\n",
              "      <td>27.500000</td>\n",
              "      <td>28.300000</td>\n",
              "      <td>29.300000</td>\n",
              "      <td>35.70</td>\n",
              "    </tr>\n",
              "  </tbody>\n",
              "</table>\n",
              "</div>"
            ],
            "text/plain": [
              "             count       mean        std  ...        50%         75%     max\n",
              "hour      184556.0  11.481442   6.996583  ...  11.000000   18.000000   23.00\n",
              "day       184556.0   2.983674   2.049272  ...   3.000000    5.000000    6.00\n",
              "OAT       184556.0  29.578779   4.235406  ...  29.019776   32.603375   43.57\n",
              "SAT       184556.0  21.532370   6.854144  ...  21.300000   27.100000   34.30\n",
              "RH        184556.0  56.528214  18.727590  ...  59.000000   70.000000   91.00\n",
              "CHW_Temp  184556.0  19.317503   7.275348  ...  18.800000   23.600000   34.00\n",
              "Valve     184556.0  38.702481  48.552425  ...   0.000000  100.000000  100.00\n",
              "RAT       184556.0  27.146891   6.456997  ...  28.300000   29.300000   35.70\n",
              "\n",
              "[8 rows x 8 columns]"
            ]
          },
          "metadata": {},
          "execution_count": 6
        }
      ]
    },
    {
      "cell_type": "code",
      "metadata": {
        "id": "ZHhNdu6L1Uz5"
      },
      "source": [
        "column_indices = {name: i for i, name in enumerate(df.columns)}\n",
        "\n",
        "n = len(df)\n",
        "train_df = df[0:int(n*0.7)]\n",
        "val_df = df[int(n*0.7):int(n*0.9)]\n",
        "test_df = df[int(n*0.9):]\n",
        "\n",
        "num_features = df.shape[1]\n"
      ],
      "execution_count": null,
      "outputs": []
    },
    {
      "cell_type": "code",
      "metadata": {
        "id": "gcHhgUOm1gJD"
      },
      "source": [
        "train_mean = train_df.mean()\n",
        "train_std = train_df.std()\n",
        "\n",
        "train_df = (train_df - train_mean) / train_std\n",
        "val_df = (val_df - train_mean) / train_std\n",
        "test_df = (test_df - train_mean) / train_std"
      ],
      "execution_count": null,
      "outputs": []
    },
    {
      "cell_type": "code",
      "metadata": {
        "id": "cJgylgnK1jGT"
      },
      "source": [
        "class WindowGenerator():\n",
        "  def __init__(self, input_width, label_width, shift,\n",
        "               train_df=train_df, val_df=val_df, test_df=test_df,\n",
        "               label_columns=None):\n",
        "    # Store the raw data.\n",
        "    self.train_df = train_df\n",
        "    self.val_df = val_df\n",
        "    self.test_df = test_df\n",
        "\n",
        "    # Work out the label column indices.\n",
        "    self.label_columns = label_columns\n",
        "    if label_columns is not None:\n",
        "      self.label_columns_indices = {name: i for i, name in\n",
        "                                    enumerate(label_columns)}\n",
        "    self.column_indices = {name: i for i, name in\n",
        "                           enumerate(train_df.columns)}\n",
        "\n",
        "    # Work out the window parameters.\n",
        "    self.input_width = input_width\n",
        "    self.label_width = label_width\n",
        "    self.shift = shift\n",
        "\n",
        "    self.total_window_size = input_width + shift\n",
        "\n",
        "    self.input_slice = slice(0, input_width)\n",
        "    self.input_indices = np.arange(self.total_window_size)[self.input_slice]\n",
        "\n",
        "    self.label_start = self.total_window_size - self.label_width\n",
        "    self.labels_slice = slice(self.label_start, None)\n",
        "    self.label_indices = np.arange(self.total_window_size)[self.labels_slice]\n",
        "\n",
        "  def __repr__(self):\n",
        "    return '\\n'.join([\n",
        "        f'Total window size: {self.total_window_size}',\n",
        "        f'Input indices: {self.input_indices}',\n",
        "        f'Label indices: {self.label_indices}',\n",
        "        f'Label column name(s): {self.label_columns}'])\n"
      ],
      "execution_count": null,
      "outputs": []
    },
    {
      "cell_type": "code",
      "metadata": {
        "id": "o-8rLrno16OB"
      },
      "source": [
        "def split_window(self, features):\n",
        "  inputs = features[:, self.input_slice, :]\n",
        "  labels = features[:, self.labels_slice, :]\n",
        "  if self.label_columns is not None:\n",
        "    labels = tf.stack(\n",
        "        [labels[:, :, self.column_indices[name]] for name in self.label_columns],\n",
        "        axis=-1)\n",
        "\n",
        "  # Slicing doesn't preserve static shape information, so set the shapes\n",
        "  # manually. This way the `tf.data.Datasets` are easier to inspect.\n",
        "  inputs.set_shape([None, self.input_width, None])\n",
        "  labels.set_shape([None, self.label_width, None])\n",
        "\n",
        "  return inputs, labels\n",
        "\n",
        "WindowGenerator.split_window = split_window"
      ],
      "execution_count": null,
      "outputs": []
    },
    {
      "cell_type": "code",
      "metadata": {
        "id": "4UzEw9W72npo"
      },
      "source": [
        "def plot(self, model=None, plot_col='RAT', max_subplots=3):\n",
        "  inputs, labels = self.example\n",
        "  plt.figure(figsize=(12, 8))\n",
        "  plot_col_index = self.column_indices[plot_col]\n",
        "  max_n = min(max_subplots, len(inputs))\n",
        "  for n in range(max_n):\n",
        "    plt.subplot(max_n, 1, n+1)\n",
        "    plt.ylabel(f'{plot_col} [normed]')\n",
        "    plt.plot(self.input_indices, inputs[n, :, plot_col_index],\n",
        "             label='Inputs', marker='.', zorder=-10)\n",
        "\n",
        "    if self.label_columns:\n",
        "      label_col_index = self.label_columns_indices.get(plot_col, None)\n",
        "    else:\n",
        "      label_col_index = plot_col_index\n",
        "\n",
        "    if label_col_index is None:\n",
        "      continue\n",
        "\n",
        "    plt.scatter(self.label_indices, labels[n, :, label_col_index],\n",
        "                edgecolors='k', label='Labels', c='#2ca02c', s=64)\n",
        "    if model is not None:\n",
        "      predictions = model(inputs)\n",
        "      plt.scatter(self.label_indices, predictions[n, :, label_col_index],\n",
        "                  marker='X', edgecolors='k', label='Predictions',\n",
        "                  c='#ff7f0e', s=64)\n",
        "\n",
        "    if n == 0:\n",
        "      plt.legend()\n",
        "\n",
        "  plt.xlabel('Time [h]')\n",
        "\n",
        "WindowGenerator.plot = plot\n"
      ],
      "execution_count": null,
      "outputs": []
    },
    {
      "cell_type": "code",
      "metadata": {
        "id": "Z5Zid9V_2zNs"
      },
      "source": [
        "def make_dataset(self, data):\n",
        "  data = np.array(data, dtype=np.float32)\n",
        "  ds = tf.keras.preprocessing.timeseries_dataset_from_array(\n",
        "      data=data,\n",
        "      targets=None,\n",
        "      sequence_length=self.total_window_size,\n",
        "      sequence_stride=1,\n",
        "      shuffle=True,\n",
        "      batch_size=32,)\n",
        "\n",
        "  ds = ds.map(self.split_window)\n",
        "\n",
        "  return ds\n",
        "\n",
        "WindowGenerator.make_dataset = make_dataset\n"
      ],
      "execution_count": null,
      "outputs": []
    },
    {
      "cell_type": "code",
      "metadata": {
        "id": "C8d_97er23Fi"
      },
      "source": [
        "@property\n",
        "def train(self):\n",
        "  return self.make_dataset(self.train_df)\n",
        "\n",
        "@property\n",
        "def val(self):\n",
        "  return self.make_dataset(self.val_df)\n",
        "\n",
        "@property\n",
        "def test(self):\n",
        "  return self.make_dataset(self.test_df)\n",
        "\n",
        "@property\n",
        "def example(self):\n",
        "  \"\"\"Get and cache an example batch of `inputs, labels` for plotting.\"\"\"\n",
        "  result = getattr(self, '_example', None)\n",
        "  if result is None:\n",
        "    # No example batch was found, so get one from the `.train` dataset\n",
        "    result = next(iter(self.train))\n",
        "    # And cache it for next time\n",
        "    self._example = result\n",
        "  return result\n",
        "\n",
        "WindowGenerator.train = train\n",
        "WindowGenerator.val = val\n",
        "WindowGenerator.test = test\n",
        "WindowGenerator.example = example\n"
      ],
      "execution_count": null,
      "outputs": []
    },
    {
      "cell_type": "code",
      "metadata": {
        "colab": {
          "base_uri": "https://localhost:8080/"
        },
        "id": "KbuxynXo5J-i",
        "outputId": "29c90904-9f90-4fdc-86ea-52a92b6416bc"
      },
      "source": [
        "wide_window = WindowGenerator(\n",
        "    input_width=24, label_width=24, shift=1,\n",
        "    label_columns=['RAT'])\n",
        "\n",
        "wide_window"
      ],
      "execution_count": null,
      "outputs": [
        {
          "output_type": "execute_result",
          "data": {
            "text/plain": [
              "Total window size: 25\n",
              "Input indices: [ 0  1  2  3  4  5  6  7  8  9 10 11 12 13 14 15 16 17 18 19 20 21 22 23]\n",
              "Label indices: [ 1  2  3  4  5  6  7  8  9 10 11 12 13 14 15 16 17 18 19 20 21 22 23 24]\n",
              "Label column name(s): ['RAT']"
            ]
          },
          "metadata": {},
          "execution_count": 16
        }
      ]
    },
    {
      "cell_type": "code",
      "metadata": {
        "colab": {
          "base_uri": "https://localhost:8080/"
        },
        "id": "MJc0PvSv43DJ",
        "outputId": "57067fbd-d589-4cb1-bef3-8c19fe013d77"
      },
      "source": [
        "print('Input shape:', wide_window.example[0].shape)\n",
        "print('Output shape:', lstm_model(wide_window.example[0]).shape)\n"
      ],
      "execution_count": null,
      "outputs": [
        {
          "output_type": "stream",
          "name": "stdout",
          "text": [
            "Input shape: (32, 24, 8)\n",
            "Output shape: (32, 24, 1)\n"
          ]
        }
      ]
    },
    {
      "cell_type": "code",
      "metadata": {
        "id": "I0FLMxk55kVz"
      },
      "source": [
        "MAX_EPOCHS = 20\n",
        "\n",
        "def compile_and_fit(model, window, patience=2):\n",
        "  early_stopping = tf.keras.callbacks.EarlyStopping(monitor='val_loss',\n",
        "                                                    patience=patience,\n",
        "                                                    mode='min')\n",
        "\n",
        "  model.compile(loss=tf.losses.MeanSquaredError(),\n",
        "                optimizer=tf.optimizers.Adam(),\n",
        "                metrics=[tf.metrics.MeanAbsoluteError()])\n",
        "  \n",
        "  \n",
        "  history = model.fit(window.train, epochs=MAX_EPOCHS,\n",
        "                      validation_data=window.val,\n",
        "                      callbacks=[early_stopping])\n",
        "  print(model.summary())\n",
        "  print(history)\n",
        "  "
      ],
      "execution_count": null,
      "outputs": []
    },
    {
      "cell_type": "markdown",
      "metadata": {
        "id": "KmvmRWNw6N9e"
      },
      "source": [
        "# Setting 1\n",
        "  With one LSTM layers. Multistep forecasting with single output"
      ]
    },
    {
      "cell_type": "code",
      "metadata": {
        "id": "kWAYU2kp27gu"
      },
      "source": [
        "lstm_model = tf.keras.models.Sequential([\n",
        "    # Shape [batch, time, features] => [batch, time, lstm_units]\n",
        "    tf.keras.layers.LSTM(32, return_sequences=True),\n",
        "    # Shape => [batch, time, features]\n",
        "    tf.keras.layers.Dense(units=1)\n",
        "])\n"
      ],
      "execution_count": null,
      "outputs": []
    },
    {
      "cell_type": "code",
      "metadata": {
        "colab": {
          "base_uri": "https://localhost:8080/"
        },
        "id": "bQOgoNgt46G2",
        "outputId": "b30c3c34-b886-4d11-b2aa-21a5d8f1580e"
      },
      "source": [
        "history = compile_and_fit(lstm_model, wide_window)\n",
        "# print(history.summary())\n",
        "\n"
      ],
      "execution_count": null,
      "outputs": [
        {
          "output_type": "stream",
          "name": "stdout",
          "text": [
            "Epoch 1/20\n",
            "4037/4037 [==============================] - 69s 17ms/step - loss: 0.0172 - mean_absolute_error: 0.0304 - val_loss: 0.0042 - val_mean_absolute_error: 0.0114\n",
            "Epoch 2/20\n",
            "4037/4037 [==============================] - 67s 17ms/step - loss: 0.0037 - mean_absolute_error: 0.0102 - val_loss: 0.0044 - val_mean_absolute_error: 0.0104\n",
            "Epoch 3/20\n",
            "4037/4037 [==============================] - 68s 17ms/step - loss: 0.0035 - mean_absolute_error: 0.0098 - val_loss: 0.0049 - val_mean_absolute_error: 0.0114\n",
            "Model: \"sequential_8\"\n",
            "_________________________________________________________________\n",
            " Layer (type)                Output Shape              Param #   \n",
            "=================================================================\n",
            " lstm_10 (LSTM)              (None, 24, 32)            5248      \n",
            "                                                                 \n",
            " dense_8 (Dense)             (None, 24, 1)             33        \n",
            "                                                                 \n",
            "=================================================================\n",
            "Total params: 5,281\n",
            "Trainable params: 5,281\n",
            "Non-trainable params: 0\n",
            "_________________________________________________________________\n",
            "None\n",
            "<keras.callbacks.History object at 0x7fe59f75bed0>\n"
          ]
        }
      ]
    },
    {
      "cell_type": "code",
      "metadata": {
        "colab": {
          "base_uri": "https://localhost:8080/"
        },
        "id": "I7NHWGqL5cF-",
        "outputId": "b541c183-c16b-42ac-e0e1-0b0b1a3f6f6f"
      },
      "source": [
        "val_performance = {}\n",
        "performance = {}\n",
        "IPython.display.clear_output()\n",
        "val_performance['LSTM'] = lstm_model.evaluate(wide_window.val)\n",
        "performance['LSTM'] = lstm_model.evaluate(wide_window.test, verbose=1)"
      ],
      "execution_count": null,
      "outputs": [
        {
          "output_type": "stream",
          "name": "stdout",
          "text": [
            "1153/1153 [==============================] - 7s 6ms/step - loss: 0.0049 - mean_absolute_error: 0.0114\n",
            "576/576 [==============================] - 4s 6ms/step - loss: 0.0012 - mean_absolute_error: 0.0098\n"
          ]
        }
      ]
    },
    {
      "cell_type": "code",
      "metadata": {
        "colab": {
          "base_uri": "https://localhost:8080/",
          "height": 497
        },
        "id": "G1FKAS4TKXaR",
        "outputId": "4e8ac9bb-e6cf-435b-aa00-e15080a24d9a"
      },
      "source": [
        "wide_window.plot(lstm_model)\n"
      ],
      "execution_count": null,
      "outputs": [
        {
          "output_type": "display_data",
          "data": {
            "image/png": "[encoded data removed]",
            "text/plain": [
              "<Figure size 864x576 with 3 Axes>"
            ]
          },
          "metadata": {
            "needs_background": "light"
          }
        }
      ]
    },
    {
      "cell_type": "markdown",
      "metadata": {
        "id": "BJupXUcF5xrc"
      },
      "source": [
        "# Setting 2\n",
        "With two LSTM layers.\n",
        "Multistep forecasting with single output"
      ]
    },
    {
      "cell_type": "code",
      "metadata": {
        "id": "jX0JKpUe5-Z8"
      },
      "source": [
        "lstm_model2 = tf.keras.models.Sequential([\n",
        "    # Shape [batch, time, features] => [batch, time, lstm_units]\n",
        "    tf.keras.layers.LSTM(64, return_sequences=True),\n",
        "    tf.keras.layers.LSTM(32, return_sequences=True),\n",
        "    # Shape => [batch, time, features]\n",
        "    tf.keras.layers.Dense(units=1)\n",
        "])"
      ],
      "execution_count": null,
      "outputs": []
    },
    {
      "cell_type": "code",
      "metadata": {
        "colab": {
          "base_uri": "https://localhost:8080/"
        },
        "id": "EkheL-1CBNKo",
        "outputId": "2d141e8b-8ef9-4fe4-d321-8011c07e928e"
      },
      "source": [
        "history = compile_and_fit(lstm_model2, wide_window)\n",
        "# print(history.summary())\n"
      ],
      "execution_count": null,
      "outputs": [
        {
          "output_type": "stream",
          "name": "stdout",
          "text": [
            "Epoch 1/20\n",
            "4037/4037 [==============================] - 134s 32ms/step - loss: 0.0111 - mean_absolute_error: 0.0242 - val_loss: 0.0043 - val_mean_absolute_error: 0.0131\n",
            "Epoch 2/20\n",
            "4037/4037 [==============================] - 129s 32ms/step - loss: 0.0036 - mean_absolute_error: 0.0119 - val_loss: 0.0047 - val_mean_absolute_error: 0.0117\n",
            "Epoch 3/20\n",
            "4037/4037 [==============================] - 130s 32ms/step - loss: 0.0033 - mean_absolute_error: 0.0100 - val_loss: 0.0050 - val_mean_absolute_error: 0.0092\n",
            "Model: \"sequential_9\"\n",
            "_________________________________________________________________\n",
            " Layer (type)                Output Shape              Param #   \n",
            "=================================================================\n",
            " lstm_11 (LSTM)              (None, 24, 64)            18688     \n",
            "                                                                 \n",
            " lstm_12 (LSTM)              (None, 24, 32)            12416     \n",
            "                                                                 \n",
            " dense_9 (Dense)             (None, 24, 1)             33        \n",
            "                                                                 \n",
            "=================================================================\n",
            "Total params: 31,137\n",
            "Trainable params: 31,137\n",
            "Non-trainable params: 0\n",
            "_________________________________________________________________\n",
            "None\n",
            "<keras.callbacks.History object at 0x7fe598662590>\n"
          ]
        }
      ]
    },
    {
      "cell_type": "code",
      "metadata": {
        "colab": {
          "base_uri": "https://localhost:8080/"
        },
        "id": "ScaekdFvBavP",
        "outputId": "49c38708-a076-4d08-db9c-6131c3e618ff"
      },
      "source": [
        "val2_performance = {}\n",
        "performance2 = {}\n",
        "IPython.display.clear_output()\n",
        "val2_performance['LSTM'] = lstm_model2.evaluate(wide_window.val)\n",
        "performance2['LSTM'] = lstm_model2.evaluate(wide_window.test, verbose=1)"
      ],
      "execution_count": null,
      "outputs": [
        {
          "output_type": "stream",
          "name": "stdout",
          "text": [
            "1153/1153 [==============================] - 13s 11ms/step - loss: 0.0050 - mean_absolute_error: 0.0092\n",
            "576/576 [==============================] - 6s 11ms/step - loss: 0.0012 - mean_absolute_error: 0.0105\n"
          ]
        }
      ]
    },
    {
      "cell_type": "code",
      "metadata": {
        "colab": {
          "base_uri": "https://localhost:8080/",
          "height": 497
        },
        "id": "0ATKXq6SGyv-",
        "outputId": "8cf51e54-3f50-48d6-a43f-d6986505c973"
      },
      "source": [
        "wide_window.plot(lstm_model2)\n"
      ],
      "execution_count": null,
      "outputs": [
        {
          "output_type": "display_data",
          "data": {
            "image/png": "[encoded data removed]",
            "text/plain": [
              "<Figure size 864x576 with 3 Axes>"
            ]
          },
          "metadata": {
            "needs_background": "light"
          }
        }
      ]
    },
    {
      "cell_type": "markdown",
      "metadata": {
        "id": "0E8GrWy-JEwK"
      },
      "source": [
        "# Setting 03 \n",
        "With two LSTM layers and one Time Distributed Layer. Multistep forecasting with single output "
      ]
    },
    {
      "cell_type": "code",
      "metadata": {
        "id": "TBY5p4ncJhdw"
      },
      "source": [
        "# tf.keras.layers.TimeDistributed(conv_2d_layer)(inputs)\n",
        "lstm_model3 = tf.keras.models.Sequential([\n",
        "    # Shape [batch, time, features] => [batch, time, lstm_units]\n",
        "    tf.keras.layers.LSTM(64, return_sequences=True),\n",
        "    tf.keras.layers.LSTM(32, return_sequences=True),\n",
        "    # Shape => [batch, time, features]\n",
        "    tf.keras.layers.TimeDistributed(tf.keras.layers.Dense(units=1))\n",
        "])"
      ],
      "execution_count": null,
      "outputs": []
    },
    {
      "cell_type": "code",
      "metadata": {
        "colab": {
          "base_uri": "https://localhost:8080/"
        },
        "id": "SCWBjTH_JwMQ",
        "outputId": "73d7c2cb-d0da-4a03-dd12-535f62d34d29"
      },
      "source": [
        "history = compile_and_fit(lstm_model3, wide_window)"
      ],
      "execution_count": null,
      "outputs": [
        {
          "output_type": "stream",
          "name": "stdout",
          "text": [
            "Epoch 1/20\n",
            "4037/4037 [==============================] - 134s 32ms/step - loss: 0.0133 - mean_absolute_error: 0.0261 - val_loss: 0.0048 - val_mean_absolute_error: 0.0162\n",
            "Epoch 2/20\n",
            "4037/4037 [==============================] - 129s 32ms/step - loss: 0.0035 - mean_absolute_error: 0.0113 - val_loss: 0.0050 - val_mean_absolute_error: 0.0106\n",
            "Epoch 3/20\n",
            "4037/4037 [==============================] - 128s 32ms/step - loss: 0.0033 - mean_absolute_error: 0.0097 - val_loss: 0.0051 - val_mean_absolute_error: 0.0113\n",
            "Model: \"sequential_11\"\n",
            "_________________________________________________________________\n",
            " Layer (type)                Output Shape              Param #   \n",
            "=================================================================\n",
            " lstm_15 (LSTM)              (None, 24, 64)            18688     \n",
            "                                                                 \n",
            " lstm_16 (LSTM)              (None, 24, 32)            12416     \n",
            "                                                                 \n",
            " time_distributed_1 (TimeDis  (None, 24, 1)            33        \n",
            " tributed)                                                       \n",
            "                                                                 \n",
            "=================================================================\n",
            "Total params: 31,137\n",
            "Trainable params: 31,137\n",
            "Non-trainable params: 0\n",
            "_________________________________________________________________\n",
            "None\n",
            "<keras.callbacks.History object at 0x7fe593683150>\n"
          ]
        }
      ]
    },
    {
      "cell_type": "code",
      "metadata": {
        "colab": {
          "base_uri": "https://localhost:8080/"
        },
        "id": "u5ALzSHTJ6q2",
        "outputId": "648434fc-ab96-4eea-864f-73ac1abdab43"
      },
      "source": [
        "val3_performance = {}\n",
        "performance3 = {}\n",
        "IPython.display.clear_output()\n",
        "val3_performance['LSTM'] = lstm_model3.evaluate(wide_window.val)\n",
        "performance3['LSTM'] = lstm_model3.evaluate(wide_window.test, verbose=1)"
      ],
      "execution_count": null,
      "outputs": [
        {
          "output_type": "stream",
          "name": "stdout",
          "text": [
            "1153/1153 [==============================] - 13s 11ms/step - loss: 0.0051 - mean_absolute_error: 0.0113\n",
            "576/576 [==============================] - 6s 10ms/step - loss: 0.0011 - mean_absolute_error: 0.0089\n"
          ]
        }
      ]
    },
    {
      "cell_type": "code",
      "metadata": {
        "colab": {
          "base_uri": "https://localhost:8080/",
          "height": 497
        },
        "id": "ppyi05BqKSBp",
        "outputId": "60932612-41e5-473a-c22e-82b3390bd7fb"
      },
      "source": [
        "wide_window.plot(lstm_model3)\n"
      ],
      "execution_count": null,
      "outputs": [
        {
          "output_type": "display_data",
          "data": {
            "image/png": "[encoded data removed]",
            "text/plain": [
              "<Figure size 864x576 with 3 Axes>"
            ]
          },
          "metadata": {
            "needs_background": "light"
          }
        }
      ]
    },
    {
      "cell_type": "code",
      "metadata": {
        "id": "i2arZHqUMnv7"
      },
      "source": [
        ""
      ],
      "execution_count": null,
      "outputs": []
    }
  ]
}