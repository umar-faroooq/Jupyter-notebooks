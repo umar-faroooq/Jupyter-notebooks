{
  "nbformat": 4,
  "nbformat_minor": 0,
  "metadata": {
    "colab": {
      "name": "Fetch Bbc News.ipynb",
      "provenance": [],
      "authorship_tag": "ABX9TyOraRDYGRo+hxGVHGXODkJh",
      "include_colab_link": true
    },
    "kernelspec": {
      "name": "python3",
      "display_name": "Python 3"
    },
    "language_info": {
      "name": "python"
    }
  },
  "cells": [
    {
      "cell_type": "markdown",
      "metadata": {
        "id": "view-in-github",
        "colab_type": "text"
      },
      "source": [
        "<a href=\"https://colab.research.google.com/github/umar-faroooq/Jupyter-notebooks/blob/main/Fetch_Bbc_News.ipynb\" target=\"_parent\"><img src=\"https://colab.research.google.com/assets/colab-badge.svg\" alt=\"Open In Colab\"/></a>"
      ]
    },
    {
      "cell_type": "code",
      "metadata": {
        "id": "bS36GgUSeaPS"
      },
      "source": [
        "#Credit to https://the-algorithms.com/ \n",
        "# Must visit this site\n",
        "import requests"
      ],
      "execution_count": 1,
      "outputs": []
    },
    {
      "cell_type": "code",
      "metadata": {
        "id": "3WF3W2Kheb61"
      },
      "source": [
        "_NEWS_API = \"https://newsapi.org/v1/articles?source=bbc-news&sortBy=top&apiKey=\""
      ],
      "execution_count": 2,
      "outputs": []
    },
    {
      "cell_type": "code",
      "metadata": {
        "colab": {
          "base_uri": "https://localhost:8080/"
        },
        "id": "MdQfczFgei62",
        "outputId": "db27311c-bc24-4c40-8433-795ab2894466"
      },
      "source": [
        "def fetch_bbc_news(bbc_news_api_key: str) -> None:\n",
        "  bbc_news_page = requests.get(_NEWS_API + bbc_news_api_key).json()\n",
        "  for i, article in enumerate(bbc_news_page[\"articles\"], 1):\n",
        "    print(f\"{i}.) {article['title']}\")\n",
        "if __name__ == \"__main__\":\n",
        "    fetch_bbc_news(bbc_news_api_key=\"9afceedaa2414f28bc599f6f0370cb38\")"
      ],
      "execution_count": 4,
      "outputs": [
        {
          "output_type": "stream",
          "name": "stdout",
          "text": [
            "1.) Biden says Omicron lockdowns not needed 'for now'\n",
            "2.) Covid booster jabs: NHS says it will invite people to book\n",
            "3.) Yazidi genocide: IS member found guilty in German landmark trial\n",
            "4.) Shine like a diamond - Rihanna made national hero\n",
            "5.) Dutch Covid case: Escaped couple fight quarantine in TB ward\n",
            "6.) Dozens of former Afghan forces killed or disappeared by Taliban, rights group says\n",
            "7.) Leaked papers link top Chinese leaders to Uyghur crackdown\n",
            "8.) Covid: Omicron variant in Netherlands earlier than thought\n",
            "9.) Barbados becomes a republic and parts ways with the Queen\n",
            "10.) Jussie Smollett: Actor hatched 'secret plan' for hate hoax\n"
          ]
        }
      ]
    },
    {
      "cell_type": "code",
      "metadata": {
        "id": "u79U922_gMLF"
      },
      "source": [
        ""
      ],
      "execution_count": null,
      "outputs": []
    }
  ]
}