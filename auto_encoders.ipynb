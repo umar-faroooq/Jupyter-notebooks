{
  "nbformat": 4,
  "nbformat_minor": 0,
  "metadata": {
    "colab": {
      "name": "auto-encoders.ipynb",
      "provenance": [],
      "mount_file_id": "1viRx6L4dvlJQSzb6Ogt9UkaHykUPuAjK",
      "authorship_tag": "ABX9TyPJ64TpVw0VHMiLSzt6ug41",
      "include_colab_link": true
    },
    "kernelspec": {
      "name": "python3",
      "display_name": "Python 3"
    },
    "language_info": {
      "name": "python"
    },
    "accelerator": "GPU"
  },
  "cells": [
    {
      "cell_type": "markdown",
      "metadata": {
        "id": "view-in-github",
        "colab_type": "text"
      },
      "source": [
        "<a href=\"https://colab.research.google.com/github/umar-faroooq/Jupyter-notebooks/blob/main/auto_encoders.ipynb\" target=\"_parent\"><img src=\"https://colab.research.google.com/assets/colab-badge.svg\" alt=\"Open In Colab\"/></a>"
      ]
    },
    {
      "cell_type": "code",
      "metadata": {
        "colab": {
          "base_uri": "https://localhost:8080/"
        },
        "id": "q9akjxcvp5qR",
        "outputId": "fb795914-74b1-445b-fa2a-bcbf2e3bfd2a"
      },
      "source": [
        "from google.colab import drive\n",
        "drive.mount('/content/drive')"
      ],
      "execution_count": 25,
      "outputs": [
        {
          "output_type": "stream",
          "name": "stdout",
          "text": [
            "Drive already mounted at /content/drive; to attempt to forcibly remount, call drive.mount(\"/content/drive\", force_remount=True).\n"
          ]
        }
      ]
    },
    {
      "cell_type": "code",
      "metadata": {
        "id": "RZp3YmzkTU0b"
      },
      "source": [
        "import os\n",
        "import datetime\n",
        "\n",
        "import IPython\n",
        "import IPython.display\n",
        "import matplotlib as mpl\n",
        "import matplotlib.pyplot as plt\n",
        "import numpy as np\n",
        "import pandas as pd\n",
        "import seaborn as sns\n",
        "import tensorflow as tf\n",
        "\n",
        "mpl.rcParams['figure.figsize'] = (8, 6)\n",
        "mpl.rcParams['axes.grid'] = False"
      ],
      "execution_count": 61,
      "outputs": []
    },
    {
      "cell_type": "code",
      "metadata": {
        "id": "cENiVQcBTqMn"
      },
      "source": [
        "df = pd.read_csv('/content/drive/MyDrive/LSTM Implementation/AHUF5/preprocessed_AHUF5.csv')\n",
        "date_time = pd.to_datetime(df.pop('Timestamp'))"
      ],
      "execution_count": 62,
      "outputs": []
    },
    {
      "cell_type": "code",
      "metadata": {
        "colab": {
          "base_uri": "https://localhost:8080/",
          "height": 300
        },
        "id": "CcejUBigVDXA",
        "outputId": "bfca171c-b69c-4ac0-86c4-f2ead7d16f15"
      },
      "source": [
        "df.describe().transpose()"
      ],
      "execution_count": 63,
      "outputs": [
        {
          "output_type": "execute_result",
          "data": {
            "text/html": [
              "<div>\n",
              "<style scoped>\n",
              "    .dataframe tbody tr th:only-of-type {\n",
              "        vertical-align: middle;\n",
              "    }\n",
              "\n",
              "    .dataframe tbody tr th {\n",
              "        vertical-align: top;\n",
              "    }\n",
              "\n",
              "    .dataframe thead th {\n",
              "        text-align: right;\n",
              "    }\n",
              "</style>\n",
              "<table border=\"1\" class=\"dataframe\">\n",
              "  <thead>\n",
              "    <tr style=\"text-align: right;\">\n",
              "      <th></th>\n",
              "      <th>count</th>\n",
              "      <th>mean</th>\n",
              "      <th>std</th>\n",
              "      <th>min</th>\n",
              "      <th>25%</th>\n",
              "      <th>50%</th>\n",
              "      <th>75%</th>\n",
              "      <th>max</th>\n",
              "    </tr>\n",
              "  </thead>\n",
              "  <tbody>\n",
              "    <tr>\n",
              "      <th>hour</th>\n",
              "      <td>184556.0</td>\n",
              "      <td>11.481442</td>\n",
              "      <td>6.996583</td>\n",
              "      <td>0.00</td>\n",
              "      <td>5.000000</td>\n",
              "      <td>11.000000</td>\n",
              "      <td>18.000000</td>\n",
              "      <td>23.00</td>\n",
              "    </tr>\n",
              "    <tr>\n",
              "      <th>day</th>\n",
              "      <td>184556.0</td>\n",
              "      <td>2.983674</td>\n",
              "      <td>2.049272</td>\n",
              "      <td>0.00</td>\n",
              "      <td>1.000000</td>\n",
              "      <td>3.000000</td>\n",
              "      <td>5.000000</td>\n",
              "      <td>6.00</td>\n",
              "    </tr>\n",
              "    <tr>\n",
              "      <th>OAT</th>\n",
              "      <td>184556.0</td>\n",
              "      <td>29.578779</td>\n",
              "      <td>4.235406</td>\n",
              "      <td>19.97</td>\n",
              "      <td>26.432292</td>\n",
              "      <td>29.019776</td>\n",
              "      <td>32.603375</td>\n",
              "      <td>43.57</td>\n",
              "    </tr>\n",
              "    <tr>\n",
              "      <th>SAT</th>\n",
              "      <td>184556.0</td>\n",
              "      <td>21.532370</td>\n",
              "      <td>6.854144</td>\n",
              "      <td>0.00</td>\n",
              "      <td>18.100000</td>\n",
              "      <td>21.300000</td>\n",
              "      <td>27.100000</td>\n",
              "      <td>34.30</td>\n",
              "    </tr>\n",
              "    <tr>\n",
              "      <th>RH</th>\n",
              "      <td>184556.0</td>\n",
              "      <td>56.528214</td>\n",
              "      <td>18.727590</td>\n",
              "      <td>0.00</td>\n",
              "      <td>49.000000</td>\n",
              "      <td>59.000000</td>\n",
              "      <td>70.000000</td>\n",
              "      <td>91.00</td>\n",
              "    </tr>\n",
              "    <tr>\n",
              "      <th>CHW_Temp</th>\n",
              "      <td>184556.0</td>\n",
              "      <td>19.317503</td>\n",
              "      <td>7.275348</td>\n",
              "      <td>0.00</td>\n",
              "      <td>15.700000</td>\n",
              "      <td>18.800000</td>\n",
              "      <td>23.600000</td>\n",
              "      <td>34.00</td>\n",
              "    </tr>\n",
              "    <tr>\n",
              "      <th>Valve</th>\n",
              "      <td>184556.0</td>\n",
              "      <td>38.702481</td>\n",
              "      <td>48.552425</td>\n",
              "      <td>0.00</td>\n",
              "      <td>0.000000</td>\n",
              "      <td>0.000000</td>\n",
              "      <td>100.000000</td>\n",
              "      <td>100.00</td>\n",
              "    </tr>\n",
              "    <tr>\n",
              "      <th>RAT</th>\n",
              "      <td>184556.0</td>\n",
              "      <td>27.146891</td>\n",
              "      <td>6.456997</td>\n",
              "      <td>0.00</td>\n",
              "      <td>27.500000</td>\n",
              "      <td>28.300000</td>\n",
              "      <td>29.300000</td>\n",
              "      <td>35.70</td>\n",
              "    </tr>\n",
              "  </tbody>\n",
              "</table>\n",
              "</div>"
            ],
            "text/plain": [
              "             count       mean        std  ...        50%         75%     max\n",
              "hour      184556.0  11.481442   6.996583  ...  11.000000   18.000000   23.00\n",
              "day       184556.0   2.983674   2.049272  ...   3.000000    5.000000    6.00\n",
              "OAT       184556.0  29.578779   4.235406  ...  29.019776   32.603375   43.57\n",
              "SAT       184556.0  21.532370   6.854144  ...  21.300000   27.100000   34.30\n",
              "RH        184556.0  56.528214  18.727590  ...  59.000000   70.000000   91.00\n",
              "CHW_Temp  184556.0  19.317503   7.275348  ...  18.800000   23.600000   34.00\n",
              "Valve     184556.0  38.702481  48.552425  ...   0.000000  100.000000  100.00\n",
              "RAT       184556.0  27.146891   6.456997  ...  28.300000   29.300000   35.70\n",
              "\n",
              "[8 rows x 8 columns]"
            ]
          },
          "metadata": {},
          "execution_count": 63
        }
      ]
    },
    {
      "cell_type": "code",
      "metadata": {
        "id": "kiyUKTWUVp1f"
      },
      "source": [
        "column_indices = {name: i for i, name in enumerate(df.columns)}\n",
        "\n",
        "n = len(df)\n",
        "train_df = df[0:int(n*0.7)]\n",
        "val_df = df[int(n*0.7):int(n*0.9)]\n",
        "test_df = df[int(n*0.9):]\n",
        "\n",
        "num_features = df.shape[1]"
      ],
      "execution_count": 64,
      "outputs": []
    },
    {
      "cell_type": "code",
      "metadata": {
        "colab": {
          "base_uri": "https://localhost:8080/",
          "height": 423
        },
        "id": "Qd6-fhLOWNht",
        "outputId": "489b7a52-e993-4426-978e-448fd71cf01a"
      },
      "source": [
        "train_df"
      ],
      "execution_count": 65,
      "outputs": [
        {
          "output_type": "execute_result",
          "data": {
            "text/html": [
              "<div>\n",
              "<style scoped>\n",
              "    .dataframe tbody tr th:only-of-type {\n",
              "        vertical-align: middle;\n",
              "    }\n",
              "\n",
              "    .dataframe tbody tr th {\n",
              "        vertical-align: top;\n",
              "    }\n",
              "\n",
              "    .dataframe thead th {\n",
              "        text-align: right;\n",
              "    }\n",
              "</style>\n",
              "<table border=\"1\" class=\"dataframe\">\n",
              "  <thead>\n",
              "    <tr style=\"text-align: right;\">\n",
              "      <th></th>\n",
              "      <th>hour</th>\n",
              "      <th>day</th>\n",
              "      <th>OAT</th>\n",
              "      <th>SAT</th>\n",
              "      <th>RH</th>\n",
              "      <th>CHW_Temp</th>\n",
              "      <th>Valve</th>\n",
              "      <th>RAT</th>\n",
              "    </tr>\n",
              "  </thead>\n",
              "  <tbody>\n",
              "    <tr>\n",
              "      <th>0</th>\n",
              "      <td>0</td>\n",
              "      <td>6</td>\n",
              "      <td>25.790000</td>\n",
              "      <td>27.3</td>\n",
              "      <td>35</td>\n",
              "      <td>28.4</td>\n",
              "      <td>100</td>\n",
              "      <td>28.0</td>\n",
              "    </tr>\n",
              "    <tr>\n",
              "      <th>1</th>\n",
              "      <td>0</td>\n",
              "      <td>6</td>\n",
              "      <td>25.756667</td>\n",
              "      <td>27.3</td>\n",
              "      <td>35</td>\n",
              "      <td>28.4</td>\n",
              "      <td>100</td>\n",
              "      <td>28.0</td>\n",
              "    </tr>\n",
              "    <tr>\n",
              "      <th>2</th>\n",
              "      <td>0</td>\n",
              "      <td>6</td>\n",
              "      <td>25.723333</td>\n",
              "      <td>27.3</td>\n",
              "      <td>35</td>\n",
              "      <td>28.4</td>\n",
              "      <td>100</td>\n",
              "      <td>28.0</td>\n",
              "    </tr>\n",
              "    <tr>\n",
              "      <th>3</th>\n",
              "      <td>0</td>\n",
              "      <td>6</td>\n",
              "      <td>25.690000</td>\n",
              "      <td>27.3</td>\n",
              "      <td>35</td>\n",
              "      <td>28.4</td>\n",
              "      <td>100</td>\n",
              "      <td>28.0</td>\n",
              "    </tr>\n",
              "    <tr>\n",
              "      <th>4</th>\n",
              "      <td>0</td>\n",
              "      <td>6</td>\n",
              "      <td>25.656667</td>\n",
              "      <td>27.3</td>\n",
              "      <td>35</td>\n",
              "      <td>28.4</td>\n",
              "      <td>100</td>\n",
              "      <td>28.0</td>\n",
              "    </tr>\n",
              "    <tr>\n",
              "      <th>...</th>\n",
              "      <td>...</td>\n",
              "      <td>...</td>\n",
              "      <td>...</td>\n",
              "      <td>...</td>\n",
              "      <td>...</td>\n",
              "      <td>...</td>\n",
              "      <td>...</td>\n",
              "      <td>...</td>\n",
              "    </tr>\n",
              "    <tr>\n",
              "      <th>129184</th>\n",
              "      <td>23</td>\n",
              "      <td>5</td>\n",
              "      <td>28.104000</td>\n",
              "      <td>25.9</td>\n",
              "      <td>69</td>\n",
              "      <td>24.9</td>\n",
              "      <td>0</td>\n",
              "      <td>27.8</td>\n",
              "    </tr>\n",
              "    <tr>\n",
              "      <th>129185</th>\n",
              "      <td>23</td>\n",
              "      <td>5</td>\n",
              "      <td>28.101667</td>\n",
              "      <td>25.9</td>\n",
              "      <td>69</td>\n",
              "      <td>24.9</td>\n",
              "      <td>0</td>\n",
              "      <td>27.8</td>\n",
              "    </tr>\n",
              "    <tr>\n",
              "      <th>129186</th>\n",
              "      <td>23</td>\n",
              "      <td>5</td>\n",
              "      <td>28.099333</td>\n",
              "      <td>25.9</td>\n",
              "      <td>69</td>\n",
              "      <td>24.9</td>\n",
              "      <td>0</td>\n",
              "      <td>27.8</td>\n",
              "    </tr>\n",
              "    <tr>\n",
              "      <th>129187</th>\n",
              "      <td>23</td>\n",
              "      <td>5</td>\n",
              "      <td>28.097000</td>\n",
              "      <td>25.9</td>\n",
              "      <td>69</td>\n",
              "      <td>24.9</td>\n",
              "      <td>0</td>\n",
              "      <td>27.8</td>\n",
              "    </tr>\n",
              "    <tr>\n",
              "      <th>129188</th>\n",
              "      <td>23</td>\n",
              "      <td>5</td>\n",
              "      <td>28.094667</td>\n",
              "      <td>25.9</td>\n",
              "      <td>69</td>\n",
              "      <td>24.9</td>\n",
              "      <td>0</td>\n",
              "      <td>27.8</td>\n",
              "    </tr>\n",
              "  </tbody>\n",
              "</table>\n",
              "<p>129189 rows × 8 columns</p>\n",
              "</div>"
            ],
            "text/plain": [
              "        hour  day        OAT   SAT  RH  CHW_Temp  Valve   RAT\n",
              "0          0    6  25.790000  27.3  35      28.4    100  28.0\n",
              "1          0    6  25.756667  27.3  35      28.4    100  28.0\n",
              "2          0    6  25.723333  27.3  35      28.4    100  28.0\n",
              "3          0    6  25.690000  27.3  35      28.4    100  28.0\n",
              "4          0    6  25.656667  27.3  35      28.4    100  28.0\n",
              "...      ...  ...        ...   ...  ..       ...    ...   ...\n",
              "129184    23    5  28.104000  25.9  69      24.9      0  27.8\n",
              "129185    23    5  28.101667  25.9  69      24.9      0  27.8\n",
              "129186    23    5  28.099333  25.9  69      24.9      0  27.8\n",
              "129187    23    5  28.097000  25.9  69      24.9      0  27.8\n",
              "129188    23    5  28.094667  25.9  69      24.9      0  27.8\n",
              "\n",
              "[129189 rows x 8 columns]"
            ]
          },
          "metadata": {},
          "execution_count": 65
        }
      ]
    },
    {
      "cell_type": "code",
      "metadata": {
        "colab": {
          "base_uri": "https://localhost:8080/",
          "height": 423
        },
        "id": "K3nT8x3dWQHF",
        "outputId": "e919ad2e-faf4-41a5-90f0-a3dd9f1415d4"
      },
      "source": [
        "val_df"
      ],
      "execution_count": 66,
      "outputs": [
        {
          "output_type": "execute_result",
          "data": {
            "text/html": [
              "<div>\n",
              "<style scoped>\n",
              "    .dataframe tbody tr th:only-of-type {\n",
              "        vertical-align: middle;\n",
              "    }\n",
              "\n",
              "    .dataframe tbody tr th {\n",
              "        vertical-align: top;\n",
              "    }\n",
              "\n",
              "    .dataframe thead th {\n",
              "        text-align: right;\n",
              "    }\n",
              "</style>\n",
              "<table border=\"1\" class=\"dataframe\">\n",
              "  <thead>\n",
              "    <tr style=\"text-align: right;\">\n",
              "      <th></th>\n",
              "      <th>hour</th>\n",
              "      <th>day</th>\n",
              "      <th>OAT</th>\n",
              "      <th>SAT</th>\n",
              "      <th>RH</th>\n",
              "      <th>CHW_Temp</th>\n",
              "      <th>Valve</th>\n",
              "      <th>RAT</th>\n",
              "    </tr>\n",
              "  </thead>\n",
              "  <tbody>\n",
              "    <tr>\n",
              "      <th>129189</th>\n",
              "      <td>23</td>\n",
              "      <td>5</td>\n",
              "      <td>28.092333</td>\n",
              "      <td>25.9</td>\n",
              "      <td>69</td>\n",
              "      <td>24.9</td>\n",
              "      <td>0</td>\n",
              "      <td>27.8</td>\n",
              "    </tr>\n",
              "    <tr>\n",
              "      <th>129190</th>\n",
              "      <td>0</td>\n",
              "      <td>6</td>\n",
              "      <td>28.090000</td>\n",
              "      <td>25.9</td>\n",
              "      <td>69</td>\n",
              "      <td>24.9</td>\n",
              "      <td>0</td>\n",
              "      <td>27.8</td>\n",
              "    </tr>\n",
              "    <tr>\n",
              "      <th>129191</th>\n",
              "      <td>0</td>\n",
              "      <td>6</td>\n",
              "      <td>28.073167</td>\n",
              "      <td>25.9</td>\n",
              "      <td>69</td>\n",
              "      <td>24.9</td>\n",
              "      <td>0</td>\n",
              "      <td>27.8</td>\n",
              "    </tr>\n",
              "    <tr>\n",
              "      <th>129192</th>\n",
              "      <td>0</td>\n",
              "      <td>6</td>\n",
              "      <td>28.056333</td>\n",
              "      <td>25.9</td>\n",
              "      <td>69</td>\n",
              "      <td>24.9</td>\n",
              "      <td>0</td>\n",
              "      <td>27.8</td>\n",
              "    </tr>\n",
              "    <tr>\n",
              "      <th>129193</th>\n",
              "      <td>0</td>\n",
              "      <td>6</td>\n",
              "      <td>28.039500</td>\n",
              "      <td>25.9</td>\n",
              "      <td>69</td>\n",
              "      <td>24.9</td>\n",
              "      <td>0</td>\n",
              "      <td>27.8</td>\n",
              "    </tr>\n",
              "    <tr>\n",
              "      <th>...</th>\n",
              "      <td>...</td>\n",
              "      <td>...</td>\n",
              "      <td>...</td>\n",
              "      <td>...</td>\n",
              "      <td>...</td>\n",
              "      <td>...</td>\n",
              "      <td>...</td>\n",
              "      <td>...</td>\n",
              "    </tr>\n",
              "    <tr>\n",
              "      <th>166095</th>\n",
              "      <td>6</td>\n",
              "      <td>1</td>\n",
              "      <td>26.494000</td>\n",
              "      <td>26.8</td>\n",
              "      <td>74</td>\n",
              "      <td>17.1</td>\n",
              "      <td>100</td>\n",
              "      <td>29.4</td>\n",
              "    </tr>\n",
              "    <tr>\n",
              "      <th>166096</th>\n",
              "      <td>6</td>\n",
              "      <td>1</td>\n",
              "      <td>26.512000</td>\n",
              "      <td>26.8</td>\n",
              "      <td>74</td>\n",
              "      <td>17.1</td>\n",
              "      <td>100</td>\n",
              "      <td>29.4</td>\n",
              "    </tr>\n",
              "    <tr>\n",
              "      <th>166097</th>\n",
              "      <td>7</td>\n",
              "      <td>1</td>\n",
              "      <td>26.530000</td>\n",
              "      <td>26.9</td>\n",
              "      <td>74</td>\n",
              "      <td>17.1</td>\n",
              "      <td>100</td>\n",
              "      <td>29.4</td>\n",
              "    </tr>\n",
              "    <tr>\n",
              "      <th>166098</th>\n",
              "      <td>7</td>\n",
              "      <td>1</td>\n",
              "      <td>26.535000</td>\n",
              "      <td>26.9</td>\n",
              "      <td>74</td>\n",
              "      <td>17.2</td>\n",
              "      <td>100</td>\n",
              "      <td>29.5</td>\n",
              "    </tr>\n",
              "    <tr>\n",
              "      <th>166099</th>\n",
              "      <td>7</td>\n",
              "      <td>1</td>\n",
              "      <td>26.540000</td>\n",
              "      <td>26.8</td>\n",
              "      <td>74</td>\n",
              "      <td>17.2</td>\n",
              "      <td>100</td>\n",
              "      <td>29.5</td>\n",
              "    </tr>\n",
              "  </tbody>\n",
              "</table>\n",
              "<p>36911 rows × 8 columns</p>\n",
              "</div>"
            ],
            "text/plain": [
              "        hour  day        OAT   SAT  RH  CHW_Temp  Valve   RAT\n",
              "129189    23    5  28.092333  25.9  69      24.9      0  27.8\n",
              "129190     0    6  28.090000  25.9  69      24.9      0  27.8\n",
              "129191     0    6  28.073167  25.9  69      24.9      0  27.8\n",
              "129192     0    6  28.056333  25.9  69      24.9      0  27.8\n",
              "129193     0    6  28.039500  25.9  69      24.9      0  27.8\n",
              "...      ...  ...        ...   ...  ..       ...    ...   ...\n",
              "166095     6    1  26.494000  26.8  74      17.1    100  29.4\n",
              "166096     6    1  26.512000  26.8  74      17.1    100  29.4\n",
              "166097     7    1  26.530000  26.9  74      17.1    100  29.4\n",
              "166098     7    1  26.535000  26.9  74      17.2    100  29.5\n",
              "166099     7    1  26.540000  26.8  74      17.2    100  29.5\n",
              "\n",
              "[36911 rows x 8 columns]"
            ]
          },
          "metadata": {},
          "execution_count": 66
        }
      ]
    },
    {
      "cell_type": "code",
      "metadata": {
        "colab": {
          "base_uri": "https://localhost:8080/",
          "height": 423
        },
        "id": "hYdPZvPWWS__",
        "outputId": "05a742bf-9336-4d49-b0d6-6c1c75a5416f"
      },
      "source": [
        "test_df"
      ],
      "execution_count": 67,
      "outputs": [
        {
          "output_type": "execute_result",
          "data": {
            "text/html": [
              "<div>\n",
              "<style scoped>\n",
              "    .dataframe tbody tr th:only-of-type {\n",
              "        vertical-align: middle;\n",
              "    }\n",
              "\n",
              "    .dataframe tbody tr th {\n",
              "        vertical-align: top;\n",
              "    }\n",
              "\n",
              "    .dataframe thead th {\n",
              "        text-align: right;\n",
              "    }\n",
              "</style>\n",
              "<table border=\"1\" class=\"dataframe\">\n",
              "  <thead>\n",
              "    <tr style=\"text-align: right;\">\n",
              "      <th></th>\n",
              "      <th>hour</th>\n",
              "      <th>day</th>\n",
              "      <th>OAT</th>\n",
              "      <th>SAT</th>\n",
              "      <th>RH</th>\n",
              "      <th>CHW_Temp</th>\n",
              "      <th>Valve</th>\n",
              "      <th>RAT</th>\n",
              "    </tr>\n",
              "  </thead>\n",
              "  <tbody>\n",
              "    <tr>\n",
              "      <th>166100</th>\n",
              "      <td>7</td>\n",
              "      <td>1</td>\n",
              "      <td>26.545000</td>\n",
              "      <td>26.9</td>\n",
              "      <td>74</td>\n",
              "      <td>17.2</td>\n",
              "      <td>100</td>\n",
              "      <td>29.5</td>\n",
              "    </tr>\n",
              "    <tr>\n",
              "      <th>166101</th>\n",
              "      <td>7</td>\n",
              "      <td>1</td>\n",
              "      <td>26.550000</td>\n",
              "      <td>26.9</td>\n",
              "      <td>74</td>\n",
              "      <td>17.2</td>\n",
              "      <td>100</td>\n",
              "      <td>29.5</td>\n",
              "    </tr>\n",
              "    <tr>\n",
              "      <th>166102</th>\n",
              "      <td>7</td>\n",
              "      <td>1</td>\n",
              "      <td>26.555000</td>\n",
              "      <td>26.9</td>\n",
              "      <td>74</td>\n",
              "      <td>17.3</td>\n",
              "      <td>100</td>\n",
              "      <td>29.5</td>\n",
              "    </tr>\n",
              "    <tr>\n",
              "      <th>166103</th>\n",
              "      <td>7</td>\n",
              "      <td>1</td>\n",
              "      <td>26.560000</td>\n",
              "      <td>27.0</td>\n",
              "      <td>74</td>\n",
              "      <td>17.3</td>\n",
              "      <td>100</td>\n",
              "      <td>29.5</td>\n",
              "    </tr>\n",
              "    <tr>\n",
              "      <th>166104</th>\n",
              "      <td>7</td>\n",
              "      <td>1</td>\n",
              "      <td>26.565000</td>\n",
              "      <td>26.9</td>\n",
              "      <td>74</td>\n",
              "      <td>17.3</td>\n",
              "      <td>100</td>\n",
              "      <td>29.5</td>\n",
              "    </tr>\n",
              "    <tr>\n",
              "      <th>...</th>\n",
              "      <td>...</td>\n",
              "      <td>...</td>\n",
              "      <td>...</td>\n",
              "      <td>...</td>\n",
              "      <td>...</td>\n",
              "      <td>...</td>\n",
              "      <td>...</td>\n",
              "      <td>...</td>\n",
              "    </tr>\n",
              "    <tr>\n",
              "      <th>184551</th>\n",
              "      <td>16</td>\n",
              "      <td>2</td>\n",
              "      <td>33.108571</td>\n",
              "      <td>17.5</td>\n",
              "      <td>65</td>\n",
              "      <td>23.8</td>\n",
              "      <td>0</td>\n",
              "      <td>27.2</td>\n",
              "    </tr>\n",
              "    <tr>\n",
              "      <th>184552</th>\n",
              "      <td>16</td>\n",
              "      <td>2</td>\n",
              "      <td>33.082857</td>\n",
              "      <td>17.5</td>\n",
              "      <td>65</td>\n",
              "      <td>23.8</td>\n",
              "      <td>0</td>\n",
              "      <td>27.2</td>\n",
              "    </tr>\n",
              "    <tr>\n",
              "      <th>184553</th>\n",
              "      <td>16</td>\n",
              "      <td>2</td>\n",
              "      <td>33.057143</td>\n",
              "      <td>17.5</td>\n",
              "      <td>65</td>\n",
              "      <td>23.8</td>\n",
              "      <td>0</td>\n",
              "      <td>27.2</td>\n",
              "    </tr>\n",
              "    <tr>\n",
              "      <th>184554</th>\n",
              "      <td>16</td>\n",
              "      <td>2</td>\n",
              "      <td>33.031429</td>\n",
              "      <td>17.5</td>\n",
              "      <td>65</td>\n",
              "      <td>23.8</td>\n",
              "      <td>0</td>\n",
              "      <td>27.1</td>\n",
              "    </tr>\n",
              "    <tr>\n",
              "      <th>184555</th>\n",
              "      <td>16</td>\n",
              "      <td>2</td>\n",
              "      <td>33.005714</td>\n",
              "      <td>17.5</td>\n",
              "      <td>65</td>\n",
              "      <td>23.8</td>\n",
              "      <td>0</td>\n",
              "      <td>27.1</td>\n",
              "    </tr>\n",
              "  </tbody>\n",
              "</table>\n",
              "<p>18456 rows × 8 columns</p>\n",
              "</div>"
            ],
            "text/plain": [
              "        hour  day        OAT   SAT  RH  CHW_Temp  Valve   RAT\n",
              "166100     7    1  26.545000  26.9  74      17.2    100  29.5\n",
              "166101     7    1  26.550000  26.9  74      17.2    100  29.5\n",
              "166102     7    1  26.555000  26.9  74      17.3    100  29.5\n",
              "166103     7    1  26.560000  27.0  74      17.3    100  29.5\n",
              "166104     7    1  26.565000  26.9  74      17.3    100  29.5\n",
              "...      ...  ...        ...   ...  ..       ...    ...   ...\n",
              "184551    16    2  33.108571  17.5  65      23.8      0  27.2\n",
              "184552    16    2  33.082857  17.5  65      23.8      0  27.2\n",
              "184553    16    2  33.057143  17.5  65      23.8      0  27.2\n",
              "184554    16    2  33.031429  17.5  65      23.8      0  27.1\n",
              "184555    16    2  33.005714  17.5  65      23.8      0  27.1\n",
              "\n",
              "[18456 rows x 8 columns]"
            ]
          },
          "metadata": {},
          "execution_count": 67
        }
      ]
    },
    {
      "cell_type": "code",
      "metadata": {
        "id": "oYgDEyZ4WUmR"
      },
      "source": [
        "train_mean = train_df.mean()\n",
        "train_std = train_df.std()\n",
        "\n",
        "train_df = (train_df - train_mean) / train_std\n",
        "val_df = (val_df - train_mean) / train_std\n",
        "test_df = (test_df - train_mean) / train_std"
      ],
      "execution_count": 68,
      "outputs": []
    },
    {
      "cell_type": "code",
      "metadata": {
        "colab": {
          "base_uri": "https://localhost:8080/",
          "height": 434
        },
        "id": "cpnwR2R6WgIy",
        "outputId": "ea1aa89b-8e90-43f1-85bc-094d4b18f9af"
      },
      "source": [
        "df_std = (df - train_mean) / train_std\n",
        "df_std = df_std.melt(var_name='Column', value_name='Normalized')\n",
        "plt.figure(figsize=(12, 6))\n",
        "ax = sns.violinplot(x='Column', y='Normalized', data=df_std)\n",
        "_ = ax.set_xticklabels(df.keys(), rotation=90)"
      ],
      "execution_count": 69,
      "outputs": [
        {
          "output_type": "display_data",
          "data": {
            "image/png": "[encoded data removed]",
            "text/plain": [
              "<Figure size 864x432 with 1 Axes>"
            ]
          },
          "metadata": {
            "needs_background": "light"
          }
        }
      ]
    },
    {
      "cell_type": "code",
      "metadata": {
        "id": "hiHrm7ooWi3F"
      },
      "source": [
        "class WindowGenerator():\n",
        "  def __init__(self, input_width, label_width, shift,\n",
        "               train_df=train_df, val_df=val_df, test_df=test_df,\n",
        "               label_columns=None):\n",
        "    # Store the raw data.\n",
        "    self.train_df = train_df\n",
        "    self.val_df = val_df\n",
        "    self.test_df = test_df\n",
        "\n",
        "    # Work out the label column indices.\n",
        "    self.label_columns = label_columns\n",
        "    if label_columns is not None:\n",
        "      self.label_columns_indices = {name: i for i, name in\n",
        "                                    enumerate(label_columns)}\n",
        "    self.column_indices = {name: i for i, name in\n",
        "                           enumerate(train_df.columns)}\n",
        "\n",
        "    # Work out the window parameters.\n",
        "    self.input_width = input_width\n",
        "    self.label_width = label_width\n",
        "    self.shift = shift\n",
        "\n",
        "    self.total_window_size = input_width + shift\n",
        "\n",
        "    self.input_slice = slice(0, input_width)\n",
        "    self.input_indices = np.arange(self.total_window_size)[self.input_slice]\n",
        "\n",
        "    self.label_start = self.total_window_size - self.label_width\n",
        "    self.labels_slice = slice(self.label_start, None)\n",
        "    self.label_indices = np.arange(self.total_window_size)[self.labels_slice]\n",
        "\n",
        "  def __repr__(self):\n",
        "    return '\\n'.join([\n",
        "        f'Total window size: {self.total_window_size}',\n",
        "        f'Input indices: {self.input_indices}',\n",
        "        f'Label indices: {self.label_indices}',\n",
        "        f'Label column name(s): {self.label_columns}'])"
      ],
      "execution_count": 35,
      "outputs": []
    },
    {
      "cell_type": "code",
      "metadata": {
        "colab": {
          "base_uri": "https://localhost:8080/"
        },
        "id": "HhJL3YZVX-ly",
        "outputId": "5b756952-276c-493a-d409-71c628a71968"
      },
      "source": [
        "OUT_STEPS = 60\n",
        "multi_window = WindowGenerator(input_width=120,\n",
        "                               label_width=OUT_STEPS,\n",
        "                               shift=OUT_STEPS)\n",
        "\n",
        "\n",
        "multi_window"
      ],
      "execution_count": 72,
      "outputs": [
        {
          "output_type": "execute_result",
          "data": {
            "text/plain": [
              "Total window size: 180\n",
              "Input indices: [  0   1   2   3   4   5   6   7   8   9  10  11  12  13  14  15  16  17\n",
              "  18  19  20  21  22  23  24  25  26  27  28  29  30  31  32  33  34  35\n",
              "  36  37  38  39  40  41  42  43  44  45  46  47  48  49  50  51  52  53\n",
              "  54  55  56  57  58  59  60  61  62  63  64  65  66  67  68  69  70  71\n",
              "  72  73  74  75  76  77  78  79  80  81  82  83  84  85  86  87  88  89\n",
              "  90  91  92  93  94  95  96  97  98  99 100 101 102 103 104 105 106 107\n",
              " 108 109 110 111 112 113 114 115 116 117 118 119]\n",
              "Label indices: [120 121 122 123 124 125 126 127 128 129 130 131 132 133 134 135 136 137\n",
              " 138 139 140 141 142 143 144 145 146 147 148 149 150 151 152 153 154 155\n",
              " 156 157 158 159 160 161 162 163 164 165 166 167 168 169 170 171 172 173\n",
              " 174 175 176 177 178 179]\n",
              "Label column name(s): None"
            ]
          },
          "metadata": {},
          "execution_count": 72
        }
      ]
    },
    {
      "cell_type": "code",
      "metadata": {
        "id": "OFzWUG8m6tiu"
      },
      "source": [
        "multi_lstm_model = tf.keras.Sequential([\n",
        "    # Shape [batch, time, features] => [batch, lstm_units].\n",
        "    # Adding more `lstm_units` just overfits more quickly.\n",
        "    tf.keras.layers.LSTM(240, return_sequences=False),\n",
        "    # Shape => [batch, out_steps*features].\n",
        "    tf.keras.layers.Dense(OUT_STEPS*num_features,\n",
        "                          kernel_initializer=tf.initializers.zeros()),\n",
        "    # Shape => [batch, out_steps, features].\n",
        "    tf.keras.layers.Reshape([OUT_STEPS, num_features])\n",
        "])\n",
        "\n",
        "history = compile_and_fit(multi_lstm_model, multi_window)\n",
        "\n"
      ],
      "execution_count": null,
      "outputs": []
    },
    {
      "cell_type": "code",
      "metadata": {
        "colab": {
          "base_uri": "https://localhost:8080/"
        },
        "id": "CbanJssQ8tMM",
        "outputId": "50e83470-51fc-4339-b931-c5c34ad57a5d"
      },
      "source": [
        "\n",
        "print(history.history.keys())\n",
        "print(history.history['loss'])\n",
        "print(history.history['val_loss'])"
      ],
      "execution_count": 78,
      "outputs": [
        {
          "output_type": "stream",
          "name": "stdout",
          "text": [
            "dict_keys(['loss', 'mean_absolute_error', 'val_loss', 'val_mean_absolute_error'])\n",
            "[0.08480369299650192, 0.05520811304450035, 0.0464651882648468]\n",
            "[0.0831058993935585, 0.08889058232307434, 0.1014290601015091]\n"
          ]
        }
      ]
    },
    {
      "cell_type": "code",
      "metadata": {
        "colab": {
          "base_uri": "https://localhost:8080/"
        },
        "id": "-v1xIZi66tgG",
        "outputId": "52e702dd-2566-45ae-c025-1e3b5007286f"
      },
      "source": [
        "IPython.display.clear_output()\n",
        "multi_val_performance = {}\n",
        "multi_performance = {}\n",
        "multi_val_performance['LSTM'] = multi_lstm_model.evaluate(multi_window.val)\n",
        "multi_performance['LSTM'] = multi_lstm_model.evaluate(multi_window.test)"
      ],
      "execution_count": 75,
      "outputs": [
        {
          "output_type": "stream",
          "name": "stdout",
          "text": [
            "287/287 [==============================] - 8s 27ms/step - loss: 0.1014 - mean_absolute_error: 0.1423\n",
            "143/143 [==============================] - 4s 26ms/step - loss: 0.1206 - mean_absolute_error: 0.1584\n"
          ]
        }
      ]
    },
    {
      "cell_type": "code",
      "metadata": {
        "id": "6HWholrD6tdO"
      },
      "source": [
        ""
      ],
      "execution_count": null,
      "outputs": []
    },
    {
      "cell_type": "code",
      "metadata": {
        "id": "6HlxPFHm6tY2"
      },
      "source": [
        ""
      ],
      "execution_count": null,
      "outputs": []
    },
    {
      "cell_type": "code",
      "metadata": {
        "id": "ZcQm8iFI6tTX"
      },
      "source": [
        ""
      ],
      "execution_count": null,
      "outputs": []
    },
    {
      "cell_type": "code",
      "metadata": {
        "id": "KhnwXNpR6tQg"
      },
      "source": [
        ""
      ],
      "execution_count": null,
      "outputs": []
    },
    {
      "cell_type": "code",
      "metadata": {
        "id": "uDp_Yq7z6tNh"
      },
      "source": [
        ""
      ],
      "execution_count": null,
      "outputs": []
    },
    {
      "cell_type": "code",
      "metadata": {
        "id": "8mcBoVrs6tKi"
      },
      "source": [
        ""
      ],
      "execution_count": null,
      "outputs": []
    },
    {
      "cell_type": "code",
      "metadata": {
        "id": "4EDBSnf_6tHr"
      },
      "source": [
        ""
      ],
      "execution_count": null,
      "outputs": []
    },
    {
      "cell_type": "code",
      "metadata": {
        "id": "Uy6f72696tEe"
      },
      "source": [
        ""
      ],
      "execution_count": null,
      "outputs": []
    },
    {
      "cell_type": "code",
      "metadata": {
        "id": "cRBOZIhR6tBX"
      },
      "source": [
        ""
      ],
      "execution_count": null,
      "outputs": []
    },
    {
      "cell_type": "code",
      "metadata": {
        "id": "LzpKCh9t6s-H"
      },
      "source": [
        ""
      ],
      "execution_count": null,
      "outputs": []
    },
    {
      "cell_type": "code",
      "metadata": {
        "id": "r5NRphkpaX_w"
      },
      "source": [
        "def split_window(self, features):\n",
        "  inputs = features[:, self.input_slice, :]\n",
        "  labels = features[:, self.labels_slice, :]\n",
        "  if self.label_columns is not None:\n",
        "    labels = tf.stack(\n",
        "        [labels[:, :, self.column_indices[name]] for name in self.label_columns],\n",
        "        axis=-1)\n",
        "\n",
        "  # Slicing doesn't preserve static shape information, so set the shapes\n",
        "  # manually. This way the `tf.data.Datasets` are easier to inspect.\n",
        "  inputs.set_shape([None, self.input_width, None])\n",
        "  labels.set_shape([None, self.label_width, None])\n",
        "\n",
        "  return inputs, labels\n",
        "\n",
        "WindowGenerator.split_window = split_window"
      ],
      "execution_count": 37,
      "outputs": []
    },
    {
      "cell_type": "code",
      "metadata": {
        "colab": {
          "base_uri": "https://localhost:8080/"
        },
        "id": "6eDAkHW1acbH",
        "outputId": "b86f67a2-a8bf-4f0c-c088-e666defa3797"
      },
      "source": [
        "# Stack three slices, the length of the total window.\n",
        "example_window = tf.stack([np.array(train_df[:w1.total_window_size]),\n",
        "                           np.array(train_df[100:100+w1.total_window_size]),\n",
        "                           np.array(train_df[200:200+w1.total_window_size])])\n",
        "\n",
        "example_inputs, example_labels = w1.split_window(example_window)\n",
        "\n",
        "print('All shapes are: (batch, time, features)')\n",
        "print(f'Window shape: {example_window.shape}')\n",
        "print(f'Inputs shape: {example_inputs.shape}')\n",
        "print(f'Labels shape: {example_labels.shape}')"
      ],
      "execution_count": 38,
      "outputs": [
        {
          "output_type": "stream",
          "name": "stdout",
          "text": [
            "All shapes are: (batch, time, features)\n",
            "Window shape: (3, 180, 8)\n",
            "Inputs shape: (3, 120, 8)\n",
            "Labels shape: (3, 60, 1)\n"
          ]
        }
      ]
    },
    {
      "cell_type": "code",
      "metadata": {
        "id": "FxpOZtquYDSA"
      },
      "source": [
        "def make_dataset(self, data):\n",
        "  data = np.array(data, dtype=np.float32)\n",
        "  ds = tf.keras.preprocessing.timeseries_dataset_from_array(\n",
        "      data=data,\n",
        "      targets=None,\n",
        "      sequence_length=self.total_window_size,\n",
        "      sequence_stride=1,\n",
        "      shuffle=True,\n",
        "      batch_size=128,)\n",
        "\n",
        "  ds = ds.map(self.split_window)\n",
        "\n",
        "  return ds\n",
        "\n",
        "WindowGenerator.make_dataset = make_dataset"
      ],
      "execution_count": 50,
      "outputs": []
    },
    {
      "cell_type": "code",
      "metadata": {
        "id": "9TGXsZ5mZG_W"
      },
      "source": [
        "@property\n",
        "def train(self):\n",
        "  return self.make_dataset(self.train_df)\n",
        "\n",
        "@property\n",
        "def val(self):\n",
        "  return self.make_dataset(self.val_df)\n",
        "\n",
        "@property\n",
        "def test(self):\n",
        "  return self.make_dataset(self.test_df)\n",
        "\n",
        "@property\n",
        "def example(self):\n",
        "  \"\"\"Get and cache an example batch of `inputs, labels` for plotting.\"\"\"\n",
        "  result = getattr(self, '_example', None)\n",
        "  if result is None:\n",
        "    # No example batch was found, so get one from the `.train` dataset\n",
        "    result = next(iter(self.train))\n",
        "    # And cache it for next time\n",
        "    self._example = result\n",
        "  return result\n",
        "\n",
        "WindowGenerator.train = train\n",
        "WindowGenerator.val = val\n",
        "WindowGenerator.test = test\n",
        "WindowGenerator.example = example"
      ],
      "execution_count": 51,
      "outputs": []
    },
    {
      "cell_type": "code",
      "metadata": {
        "colab": {
          "base_uri": "https://localhost:8080/"
        },
        "id": "qerfWp1daDxs",
        "outputId": "30a7f9b4-b6df-4046-d9e3-f63c2c3518d7"
      },
      "source": [
        "# Each element is an (inputs, label) pair.\n",
        "w1.train.element_spec"
      ],
      "execution_count": 52,
      "outputs": [
        {
          "output_type": "execute_result",
          "data": {
            "text/plain": [
              "(TensorSpec(shape=(None, 120, 8), dtype=tf.float32, name=None),\n",
              " TensorSpec(shape=(None, 60, 1), dtype=tf.float32, name=None))"
            ]
          },
          "metadata": {},
          "execution_count": 52
        }
      ]
    },
    {
      "cell_type": "code",
      "metadata": {
        "colab": {
          "base_uri": "https://localhost:8080/"
        },
        "id": "jDYxg6bnaHuu",
        "outputId": "e6b9e64d-702f-4eaa-fa3a-562bce8362d8"
      },
      "source": [
        "for example_inputs, example_labels in w1.train.take(1):\n",
        "  print(f'Inputs shape (batch, time, features): {example_inputs.shape}')\n",
        "  print(f'Labels shape (batch, time, features): {example_labels.shape}')"
      ],
      "execution_count": 53,
      "outputs": [
        {
          "output_type": "stream",
          "name": "stdout",
          "text": [
            "Inputs shape (batch, time, features): (128, 120, 8)\n",
            "Labels shape (batch, time, features): (128, 60, 1)\n"
          ]
        }
      ]
    },
    {
      "cell_type": "code",
      "metadata": {
        "colab": {
          "base_uri": "https://localhost:8080/"
        },
        "id": "jS0ei83Mk6K9",
        "outputId": "83a575db-34ee-4bcc-a267-74d70ad291c4"
      },
      "source": [
        "CONV_WIDTH = 6\n",
        "conv_window = WindowGenerator(\n",
        "    input_width=CONV_WIDTH,\n",
        "    label_width=3,\n",
        "    shift=3,\n",
        "    label_columns=['RAT'])\n",
        "\n",
        "conv_window"
      ],
      "execution_count": 54,
      "outputs": [
        {
          "output_type": "execute_result",
          "data": {
            "text/plain": [
              "Total window size: 9\n",
              "Input indices: [0 1 2 3 4 5]\n",
              "Label indices: [6 7 8]\n",
              "Label column name(s): ['RAT']"
            ]
          },
          "metadata": {},
          "execution_count": 54
        }
      ]
    },
    {
      "cell_type": "code",
      "metadata": {
        "id": "Nl50qUXtlUgU"
      },
      "source": [
        "MAX_EPOCHS = 20\n",
        "\n",
        "def compile_and_fit(model, window, patience=2):\n",
        "  early_stopping = tf.keras.callbacks.EarlyStopping(monitor='val_loss',\n",
        "                                                    patience=patience,\n",
        "                                                    mode='min')\n",
        "\n",
        "  model.compile(loss=tf.losses.MeanSquaredError(),\n",
        "                optimizer=tf.optimizers.Adam(),\n",
        "                metrics=[tf.metrics.MeanAbsoluteError()])\n",
        "\n",
        "  history = model.fit(window.train, epochs=MAX_EPOCHS,\n",
        "                      validation_data=window.val,\n",
        "                      callbacks=[early_stopping])\n",
        "  return history"
      ],
      "execution_count": 55,
      "outputs": []
    },
    {
      "cell_type": "code",
      "metadata": {
        "id": "YvjZ7k8ac8Nx"
      },
      "source": [
        "multi_step_dense = tf.keras.Sequential([\n",
        "    # Shape: (time, features) => (time*features)\n",
        "    tf.keras.layers.Flatten(),\n",
        "    tf.keras.layers.Dense(units=32, activation='relu'),\n",
        "    tf.keras.layers.Dense(units=32, activation='relu'),\n",
        "    tf.keras.layers.Dense(units=1),\n",
        "    # Add back the time dimension.\n",
        "    # Shape: (outputs) => (1, outputs)\n",
        "    tf.keras.layers.Reshape([1, -1]),\n",
        "])"
      ],
      "execution_count": 56,
      "outputs": []
    },
    {
      "cell_type": "code",
      "metadata": {
        "colab": {
          "base_uri": "https://localhost:8080/"
        },
        "id": "d9TJAHSQdo5u",
        "outputId": "43c8e15c-b86c-47dc-f8d9-e21ac85cbd26"
      },
      "source": [
        "print('Input shape:', conv_window.example[0].shape)\n",
        "print('Output shape:', multi_step_dense(conv_window.example[0]).shape)"
      ],
      "execution_count": 60,
      "outputs": [
        {
          "output_type": "stream",
          "name": "stdout",
          "text": [
            "Input shape: (128, 6, 8)\n",
            "Output shape: (128, 1, 1)\n"
          ]
        }
      ]
    },
    {
      "cell_type": "code",
      "metadata": {
        "colab": {
          "base_uri": "https://localhost:8080/"
        },
        "id": "h_xN0Z55cDW7",
        "outputId": "9750535c-2125-4555-8b7f-7c7a93a29b5f"
      },
      "source": [
        "history = compile_and_fit(multi_step_dense, conv_window)\n",
        "\n",
        "IPython.display.clear_output()\n",
        "val_performance = {}\n",
        "performance = {}\n",
        "val_performance['Multi step dense'] = multi_step_dense.evaluate(conv_window.val)\n",
        "performance['Multi step dense'] = multi_step_dense.evaluate(conv_window.test, verbose=0)"
      ],
      "execution_count": 58,
      "outputs": [
        {
          "output_type": "stream",
          "name": "stdout",
          "text": [
            "289/289 [==============================] - 6s 21ms/step - loss: 0.0107 - mean_absolute_error: 0.0321\n"
          ]
        }
      ]
    },
    {
      "cell_type": "code",
      "metadata": {
        "id": "Ym-RgGjpdBLd"
      },
      "source": [
        "\n",
        "\n",
        "\n",
        "\n",
        "\n",
        "\n",
        "\n",
        "\n",
        "\n",
        "\n",
        "\n",
        "\n",
        "\n",
        "\n",
        "\n",
        "\n",
        "\n",
        "\n",
        "\n",
        "\n",
        "\n",
        "\n",
        "\n",
        "\n",
        "\n",
        "\n",
        "\n",
        "\n",
        "\n",
        "\n",
        "\n"
      ],
      "execution_count": null,
      "outputs": []
    }
  ]
}